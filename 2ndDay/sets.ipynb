{
 "cells": [
  {
   "metadata": {},
   "cell_type": "markdown",
   "source": "Set is collection of items seperated with cama enclosed in a flower brackets it doesnot allow duplicates and is ordered",
   "id": "d1caf2b919bc2b11"
  },
  {
   "metadata": {
    "ExecuteTime": {
     "end_time": "2025-08-20T09:42:23.652140Z",
     "start_time": "2025-08-20T09:42:23.648021Z"
    }
   },
   "cell_type": "code",
   "source": [
    "my_set = {9,4,5,3,3,4,2,1}\n",
    "print(my_set)"
   ],
   "id": "9453e6a2534ddbb2",
   "outputs": [
    {
     "name": "stdout",
     "output_type": "stream",
     "text": [
      "{1, 2, 3, 4, 5, 9}\n"
     ]
    }
   ],
   "execution_count": 8
  },
  {
   "metadata": {
    "ExecuteTime": {
     "end_time": "2025-08-20T09:42:43.469591Z",
     "start_time": "2025-08-20T09:42:43.463228Z"
    }
   },
   "cell_type": "code",
   "source": "dir(my_set)",
   "id": "6e7376b32afb9faa",
   "outputs": [
    {
     "data": {
      "text/plain": [
       "['__and__',\n",
       " '__class__',\n",
       " '__class_getitem__',\n",
       " '__contains__',\n",
       " '__delattr__',\n",
       " '__dir__',\n",
       " '__doc__',\n",
       " '__eq__',\n",
       " '__format__',\n",
       " '__ge__',\n",
       " '__getattribute__',\n",
       " '__getstate__',\n",
       " '__gt__',\n",
       " '__hash__',\n",
       " '__iand__',\n",
       " '__init__',\n",
       " '__init_subclass__',\n",
       " '__ior__',\n",
       " '__isub__',\n",
       " '__iter__',\n",
       " '__ixor__',\n",
       " '__le__',\n",
       " '__len__',\n",
       " '__lt__',\n",
       " '__ne__',\n",
       " '__new__',\n",
       " '__or__',\n",
       " '__rand__',\n",
       " '__reduce__',\n",
       " '__reduce_ex__',\n",
       " '__repr__',\n",
       " '__ror__',\n",
       " '__rsub__',\n",
       " '__rxor__',\n",
       " '__setattr__',\n",
       " '__sizeof__',\n",
       " '__str__',\n",
       " '__sub__',\n",
       " '__subclasshook__',\n",
       " '__xor__',\n",
       " 'add',\n",
       " 'clear',\n",
       " 'copy',\n",
       " 'difference',\n",
       " 'difference_update',\n",
       " 'discard',\n",
       " 'intersection',\n",
       " 'intersection_update',\n",
       " 'isdisjoint',\n",
       " 'issubset',\n",
       " 'issuperset',\n",
       " 'pop',\n",
       " 'remove',\n",
       " 'symmetric_difference',\n",
       " 'symmetric_difference_update',\n",
       " 'union',\n",
       " 'update']"
      ]
     },
     "execution_count": 9,
     "metadata": {},
     "output_type": "execute_result"
    }
   ],
   "execution_count": 9
  },
  {
   "metadata": {},
   "cell_type": "markdown",
   "source": "Adding Item to a set",
   "id": "16e1a8a3adee0afe"
  },
  {
   "metadata": {
    "ExecuteTime": {
     "end_time": "2025-08-20T09:43:46.769573Z",
     "start_time": "2025-08-20T09:43:46.766674Z"
    }
   },
   "cell_type": "code",
   "source": [
    "my_set.add(8)\n",
    "print(my_set)"
   ],
   "id": "d35fe31338abf055",
   "outputs": [
    {
     "name": "stdout",
     "output_type": "stream",
     "text": [
      "{1, 2, 3, 4, 5, 8, 9}\n"
     ]
    }
   ],
   "execution_count": 10
  },
  {
   "metadata": {
    "ExecuteTime": {
     "end_time": "2025-08-20T09:44:38.810832Z",
     "start_time": "2025-08-20T09:44:38.808257Z"
    }
   },
   "cell_type": "code",
   "source": "my_set.pop()",
   "id": "9a6e68a945b7b82",
   "outputs": [
    {
     "data": {
      "text/plain": [
       "2"
      ]
     },
     "execution_count": 13,
     "metadata": {},
     "output_type": "execute_result"
    }
   ],
   "execution_count": 13
  },
  {
   "metadata": {
    "ExecuteTime": {
     "end_time": "2025-08-20T09:44:40.958013Z",
     "start_time": "2025-08-20T09:44:40.955749Z"
    }
   },
   "cell_type": "code",
   "source": "print(my_set)",
   "id": "c5a8c9deae413171",
   "outputs": [
    {
     "name": "stdout",
     "output_type": "stream",
     "text": [
      "{3, 4, 5, 8, 9}\n"
     ]
    }
   ],
   "execution_count": 14
  },
  {
   "metadata": {
    "ExecuteTime": {
     "end_time": "2025-08-20T09:47:39.251738Z",
     "start_time": "2025-08-20T09:47:39.248219Z"
    }
   },
   "cell_type": "code",
   "source": [
    "new_set = my_set.copy()\n",
    "print(new_set)"
   ],
   "id": "60ea909426757157",
   "outputs": [
    {
     "name": "stdout",
     "output_type": "stream",
     "text": [
      "{3, 4, 5, 8, 9}\n"
     ]
    }
   ],
   "execution_count": 15
  },
  {
   "metadata": {},
   "cell_type": "markdown",
   "source": "intersection",
   "id": "d191b058026722d1"
  },
  {
   "metadata": {
    "ExecuteTime": {
     "end_time": "2025-08-21T04:09:53.159460Z",
     "start_time": "2025-08-21T04:09:53.150434Z"
    }
   },
   "cell_type": "code",
   "source": [
    "A= {1,2.4,5,8}\n",
    "B= {2,3,5,8}\n",
    "A.intersection(B)"
   ],
   "id": "e9959cdb98c75121",
   "outputs": [
    {
     "data": {
      "text/plain": [
       "{5, 8}"
      ]
     },
     "execution_count": 1,
     "metadata": {},
     "output_type": "execute_result"
    }
   ],
   "execution_count": 1
  },
  {
   "metadata": {},
   "cell_type": "markdown",
   "source": "Intersection_updation",
   "id": "bb469fcaf8bc4d9d"
  },
  {
   "metadata": {
    "ExecuteTime": {
     "end_time": "2025-08-21T04:11:30.227900Z",
     "start_time": "2025-08-21T04:11:30.221146Z"
    }
   },
   "cell_type": "code",
   "source": [
    "A= {1,2.4,5,8}\n",
    "B= {2,3,5,8}\n",
    "A.intersection_update(B)\n",
    "print(A)"
   ],
   "id": "1cd97031b3d911d5",
   "outputs": [
    {
     "name": "stdout",
     "output_type": "stream",
     "text": [
      "{8, 5}\n"
     ]
    }
   ],
   "execution_count": 3
  },
  {
   "metadata": {},
   "cell_type": "markdown",
   "source": "difference",
   "id": "2d3c8364b81e247e"
  },
  {
   "metadata": {
    "ExecuteTime": {
     "end_time": "2025-08-21T04:12:54.630636Z",
     "start_time": "2025-08-21T04:12:54.618699Z"
    }
   },
   "cell_type": "code",
   "source": [
    "A= {1,2.4,5,8}\n",
    "B= {2,3,5,8}\n",
    "A.difference(B)"
   ],
   "id": "e088e50b4d0d0463",
   "outputs": [
    {
     "data": {
      "text/plain": [
       "{1, 2.4}"
      ]
     },
     "execution_count": 5,
     "metadata": {},
     "output_type": "execute_result"
    }
   ],
   "execution_count": 5
  },
  {
   "metadata": {},
   "cell_type": "markdown",
   "source": "Difference_update",
   "id": "ce06d5772f76b4d3"
  },
  {
   "metadata": {
    "ExecuteTime": {
     "end_time": "2025-08-21T04:13:39.409382Z",
     "start_time": "2025-08-21T04:13:39.404691Z"
    }
   },
   "cell_type": "code",
   "source": [
    "A= {1,2.4,5,8}\n",
    "B= {2,3,5,8}\n",
    "A.difference_update(B)\n",
    "print(A)"
   ],
   "id": "bb82a4dccc0d4aa8",
   "outputs": [
    {
     "name": "stdout",
     "output_type": "stream",
     "text": [
      "{1, 2.4}\n"
     ]
    }
   ],
   "execution_count": 6
  },
  {
   "metadata": {},
   "cell_type": "markdown",
   "source": "symmetric_difference",
   "id": "f55ae16e627160e9"
  },
  {
   "metadata": {
    "ExecuteTime": {
     "end_time": "2025-08-21T09:19:30.856971Z",
     "start_time": "2025-08-21T09:19:30.845595Z"
    }
   },
   "cell_type": "code",
   "source": [
    "A= {1,2,3,5,8}\n",
    "B= {0,2,4,5,8}\n",
    "A.symmetric_difference(B)"
   ],
   "id": "ec270ddc23ded609",
   "outputs": [
    {
     "data": {
      "text/plain": [
       "{0, 1, 3, 4}"
      ]
     },
     "execution_count": 4,
     "metadata": {},
     "output_type": "execute_result"
    }
   ],
   "execution_count": 4
  },
  {
   "metadata": {
    "ExecuteTime": {
     "end_time": "2025-08-21T09:20:12.150940Z",
     "start_time": "2025-08-21T09:20:12.142474Z"
    }
   },
   "cell_type": "code",
   "source": [
    "A= {1,2,3,5,8}\n",
    "B= {0,2,4,5,8}\n",
    "A.symmetric_difference_update(B)\n",
    "print(A)"
   ],
   "id": "209fe1b986d3a896",
   "outputs": [
    {
     "name": "stdout",
     "output_type": "stream",
     "text": [
      "{0, 1, 3, 4}\n"
     ]
    }
   ],
   "execution_count": 6
  },
  {
   "metadata": {},
   "cell_type": "code",
   "outputs": [],
   "execution_count": null,
   "source": "",
   "id": "a6e113079e654cd7"
  }
 ],
 "metadata": {
  "kernelspec": {
   "display_name": "Python 3",
   "language": "python",
   "name": "python3"
  },
  "language_info": {
   "codemirror_mode": {
    "name": "ipython",
    "version": 2
   },
   "file_extension": ".py",
   "mimetype": "text/x-python",
   "name": "python",
   "nbconvert_exporter": "python",
   "pygments_lexer": "ipython2",
   "version": "2.7.6"
  }
 },
 "nbformat": 4,
 "nbformat_minor": 5
}
