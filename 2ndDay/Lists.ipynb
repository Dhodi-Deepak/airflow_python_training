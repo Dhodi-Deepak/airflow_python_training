{
 "cells": [
  {
   "metadata": {},
   "cell_type": "markdown",
   "source": "List is mutable in nature is a collection of items enclosed in square brackets with coma seperated",
   "id": "a8aa170037e2331f"
  },
  {
   "metadata": {
    "ExecuteTime": {
     "end_time": "2025-08-20T08:55:06.541802Z",
     "start_time": "2025-08-20T08:55:06.538902Z"
    }
   },
   "cell_type": "code",
   "source": [
    "my_list = [1,2,3,4,5,6,7,8,9]\n",
    "print(my_list)"
   ],
   "id": "290267dcb0605dd6",
   "outputs": [
    {
     "name": "stdout",
     "output_type": "stream",
     "text": [
      "[1, 2, 3, 4, 5, 6, 7, 8, 9]\n"
     ]
    }
   ],
   "execution_count": 15
  },
  {
   "metadata": {},
   "cell_type": "markdown",
   "source": "adding a new item in list",
   "id": "396a26f38a8977c8"
  },
  {
   "metadata": {
    "ExecuteTime": {
     "end_time": "2025-08-20T07:14:11.833640Z",
     "start_time": "2025-08-20T07:14:11.819318Z"
    }
   },
   "cell_type": "code",
   "source": "dir(list)",
   "id": "4df9772593af548",
   "outputs": [
    {
     "data": {
      "text/plain": [
       "['__add__',\n",
       " '__class__',\n",
       " '__class_getitem__',\n",
       " '__contains__',\n",
       " '__delattr__',\n",
       " '__delitem__',\n",
       " '__dir__',\n",
       " '__doc__',\n",
       " '__eq__',\n",
       " '__format__',\n",
       " '__ge__',\n",
       " '__getattribute__',\n",
       " '__getitem__',\n",
       " '__getstate__',\n",
       " '__gt__',\n",
       " '__hash__',\n",
       " '__iadd__',\n",
       " '__imul__',\n",
       " '__init__',\n",
       " '__init_subclass__',\n",
       " '__iter__',\n",
       " '__le__',\n",
       " '__len__',\n",
       " '__lt__',\n",
       " '__mul__',\n",
       " '__ne__',\n",
       " '__new__',\n",
       " '__reduce__',\n",
       " '__reduce_ex__',\n",
       " '__repr__',\n",
       " '__reversed__',\n",
       " '__rmul__',\n",
       " '__setattr__',\n",
       " '__setitem__',\n",
       " '__sizeof__',\n",
       " '__str__',\n",
       " '__subclasshook__',\n",
       " 'append',\n",
       " 'clear',\n",
       " 'copy',\n",
       " 'count',\n",
       " 'extend',\n",
       " 'index',\n",
       " 'insert',\n",
       " 'pop',\n",
       " 'remove',\n",
       " 'reverse',\n",
       " 'sort']"
      ]
     },
     "execution_count": 12,
     "metadata": {},
     "output_type": "execute_result"
    }
   ],
   "execution_count": 12
  },
  {
   "metadata": {
    "ExecuteTime": {
     "end_time": "2025-08-20T08:55:57.027239Z",
     "start_time": "2025-08-20T08:55:57.022878Z"
    }
   },
   "cell_type": "code",
   "source": [
    "my_list.append('a')\n",
    "print(my_list)\n",
    "my_list.append(2)"
   ],
   "id": "a2e9fd714379ea64",
   "outputs": [
    {
     "name": "stdout",
     "output_type": "stream",
     "text": [
      "[1, 2, 3, 4, 5, 6, 7, 8, 9, 'a']\n"
     ]
    }
   ],
   "execution_count": 16
  },
  {
   "metadata": {},
   "cell_type": "markdown",
   "source": "POP method remove the last added Item",
   "id": "4431c73c01ceb372"
  },
  {
   "metadata": {},
   "cell_type": "code",
   "outputs": [
    {
     "name": "stdout",
     "output_type": "stream",
     "text": [
      "[1, 2, 3, 4, 5, 6, 7, 8, 9]\n"
     ]
    }
   ],
   "execution_count": 11,
   "source": [
    "my_list.pop()\n",
    "print(my_list)"
   ],
   "id": "d3350172ae57b43a"
  },
  {
   "metadata": {},
   "cell_type": "markdown",
   "source": [
    "Copy method is used for cloning a list instead of variable asigning\n",
    "new_list=my_list because the address of both list is same\n"
   ],
   "id": "853e20bf3184c133"
  },
  {
   "metadata": {
    "ExecuteTime": {
     "end_time": "2025-08-20T08:59:04.943691Z",
     "start_time": "2025-08-20T08:59:04.941055Z"
    }
   },
   "cell_type": "code",
   "source": [
    "new_list = my_list.copy()\n",
    "print(new_list)"
   ],
   "id": "dbdc94b7bf75376f",
   "outputs": [
    {
     "name": "stdout",
     "output_type": "stream",
     "text": [
      "[1, 2, 3, 4, 5, 6, 7, 8, 9, 'a', 2]\n"
     ]
    }
   ],
   "execution_count": 24
  },
  {
   "metadata": {},
   "cell_type": "markdown",
   "source": "count method",
   "id": "dd460a5de327ac17"
  },
  {
   "metadata": {
    "ExecuteTime": {
     "end_time": "2025-08-20T08:57:01.425125Z",
     "start_time": "2025-08-20T08:57:01.422440Z"
    }
   },
   "cell_type": "code",
   "source": [
    "cnt =my_list.count(2)\n",
    "print(cnt)"
   ],
   "id": "49748f42a3a31615",
   "outputs": [
    {
     "name": "stdout",
     "output_type": "stream",
     "text": [
      "2\n"
     ]
    }
   ],
   "execution_count": 18
  },
  {
   "metadata": {},
   "cell_type": "markdown",
   "source": "extend method",
   "id": "f670d9c2fa24ba8"
  },
  {
   "metadata": {
    "ExecuteTime": {
     "end_time": "2025-08-20T09:16:16.701468Z",
     "start_time": "2025-08-20T09:16:16.695927Z"
    }
   },
   "cell_type": "code",
   "source": [
    "new_list.extend(['extend',2])\n",
    "print(new_list)"
   ],
   "id": "b9c701f3c86443c8",
   "outputs": [
    {
     "name": "stdout",
     "output_type": "stream",
     "text": [
      "[2, 2, 'a', 9, 8, 7, 6, 5, 4, 3, 1, 2, 'extend', 2]\n"
     ]
    }
   ],
   "execution_count": 34
  },
  {
   "metadata": {},
   "cell_type": "markdown",
   "source": "Remove method",
   "id": "5c9848ce72cd82fe"
  },
  {
   "metadata": {
    "ExecuteTime": {
     "end_time": "2025-08-20T09:16:31.045994Z",
     "start_time": "2025-08-20T09:16:31.043516Z"
    }
   },
   "cell_type": "code",
   "source": [
    "new_list.remove('extend')\n",
    "new_list.remove('a')\n",
    "print(new_list)"
   ],
   "id": "de1b593a49db1217",
   "outputs": [
    {
     "name": "stdout",
     "output_type": "stream",
     "text": [
      "[2, 2, 9, 8, 7, 6, 5, 4, 3, 1, 2, 2]\n"
     ]
    }
   ],
   "execution_count": 35
  },
  {
   "metadata": {},
   "cell_type": "markdown",
   "source": "Removes only the first occurance",
   "id": "17c08322c657cc0b"
  },
  {
   "metadata": {},
   "cell_type": "code",
   "outputs": [
    {
     "name": "stdout",
     "output_type": "stream",
     "text": [
      "[1, 3, 4, 5, 6, 7, 8, 9, 'a', 2, 2]\n"
     ]
    }
   ],
   "execution_count": 27,
   "source": [
    "new_list.remove(2)\n",
    "print(new_list)"
   ],
   "id": "5559d0abcf4bd90e"
  },
  {
   "metadata": {},
   "cell_type": "markdown",
   "source": "Reverse method",
   "id": "78f49d293cd05901"
  },
  {
   "metadata": {},
   "cell_type": "code",
   "outputs": [
    {
     "name": "stdout",
     "output_type": "stream",
     "text": [
      "[2, 2, 'a', 9, 8, 7, 6, 5, 4, 3, 1]\n"
     ]
    }
   ],
   "execution_count": 28,
   "source": [
    "new_list.reverse()\n",
    "print(new_list)"
   ],
   "id": "baf2d61a9d86b159"
  },
  {
   "metadata": {},
   "cell_type": "markdown",
   "source": "sort method is only used  if all the items in the list must have same datatype",
   "id": "a1b2ee8ae92c0166"
  },
  {
   "metadata": {},
   "cell_type": "code",
   "outputs": [
    {
     "name": "stdout",
     "output_type": "stream",
     "text": [
      "[1, 2, 2, 2, 2, 3, 4, 5, 6, 7, 8, 9]\n"
     ]
    }
   ],
   "execution_count": 38,
   "source": [
    "new_list.sort()\n",
    "print(new_list)"
   ],
   "id": "4d34e6c39d51ab25"
  },
  {
   "metadata": {},
   "cell_type": "markdown",
   "source": "Insert method",
   "id": "a562e1b17fd8bb4d"
  },
  {
   "metadata": {
    "ExecuteTime": {
     "end_time": "2025-08-20T09:21:22.637705Z",
     "start_time": "2025-08-20T09:21:22.634331Z"
    }
   },
   "cell_type": "code",
   "source": [
    "new_list.insert(2,'insert')\n",
    "print(new_list)"
   ],
   "id": "397a74d6c8d24314",
   "outputs": [
    {
     "name": "stdout",
     "output_type": "stream",
     "text": [
      "[1, 2, 'insert', 2, 2, 2, 3, 4, 5, 6, 7, 8, 9]\n"
     ]
    }
   ],
   "execution_count": 49
  },
  {
   "metadata": {},
   "cell_type": "markdown",
   "source": "Clear method",
   "id": "c6d0858f93a21651"
  },
  {
   "metadata": {
    "ExecuteTime": {
     "end_time": "2025-08-20T09:22:14.449694Z",
     "start_time": "2025-08-20T09:22:14.442225Z"
    }
   },
   "cell_type": "code",
   "source": [
    "new_list.clear()\n",
    "print(new_list)"
   ],
   "id": "41e682c597fb7bdb",
   "outputs": [
    {
     "name": "stdout",
     "output_type": "stream",
     "text": [
      "[]\n"
     ]
    }
   ],
   "execution_count": 50
  },
  {
   "metadata": {},
   "cell_type": "markdown",
   "source": "List Slicing",
   "id": "dda8d81eaa564e96"
  },
  {
   "metadata": {
    "ExecuteTime": {
     "end_time": "2025-08-20T09:24:41.339130Z",
     "start_time": "2025-08-20T09:24:41.335113Z"
    }
   },
   "cell_type": "code",
   "source": [
    "print(my_list)\n",
    "my_list[9]"
   ],
   "id": "280d241cbacf39af",
   "outputs": [
    {
     "name": "stdout",
     "output_type": "stream",
     "text": [
      "[1, 2, 3, 4, 5, 6, 7, 8, 9, 'a', 2]\n"
     ]
    },
    {
     "data": {
      "text/plain": [
       "'a'"
      ]
     },
     "execution_count": 56,
     "metadata": {},
     "output_type": "execute_result"
    }
   ],
   "execution_count": 56
  },
  {
   "metadata": {
    "ExecuteTime": {
     "end_time": "2025-08-20T09:28:18.808983Z",
     "start_time": "2025-08-20T09:28:18.805470Z"
    }
   },
   "cell_type": "code",
   "source": "my_list[0:10]",
   "id": "6b89385bdf773e02",
   "outputs": [
    {
     "data": {
      "text/plain": [
       "[1, 2, 3, 4, 5, 6, 7, 8, 9, 'a']"
      ]
     },
     "execution_count": 74,
     "metadata": {},
     "output_type": "execute_result"
    }
   ],
   "execution_count": 74
  }
 ],
 "metadata": {
  "kernelspec": {
   "display_name": "Python 3",
   "language": "python",
   "name": "python3"
  },
  "language_info": {
   "codemirror_mode": {
    "name": "ipython",
    "version": 2
   },
   "file_extension": ".py",
   "mimetype": "text/x-python",
   "name": "python",
   "nbconvert_exporter": "python",
   "pygments_lexer": "ipython2",
   "version": "2.7.6"
  }
 },
 "nbformat": 4,
 "nbformat_minor": 5
}
