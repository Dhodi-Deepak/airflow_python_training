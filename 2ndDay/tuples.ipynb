{
 "cells": [
  {
   "metadata": {},
   "cell_type": "markdown",
   "source": "Tuple is a immuatable in nature enclosed  in parantheses with cama seperated if paranthesis is not given by default it will consider as list",
   "id": "6c4dc78848896f06"
  },
  {
   "metadata": {
    "ExecuteTime": {
     "end_time": "2025-08-20T09:33:21.719222Z",
     "start_time": "2025-08-20T09:33:21.714417Z"
    }
   },
   "cell_type": "code",
   "source": [
    "my_tuple = (1,2,3,4,4,5,6,7,8,9,10)\n",
    "print(my_tuple)"
   ],
   "id": "b0efd3f225ca00b",
   "outputs": [
    {
     "name": "stdout",
     "output_type": "stream",
     "text": [
      "(1, 2, 3, 4, 4, 5, 6, 7, 8, 9, 10)\n"
     ]
    }
   ],
   "execution_count": 3
  },
  {
   "metadata": {
    "ExecuteTime": {
     "end_time": "2025-08-20T09:33:24.338587Z",
     "start_time": "2025-08-20T09:33:24.335040Z"
    }
   },
   "cell_type": "code",
   "source": "dir(my_tuple)",
   "id": "bad5bab0d566a13b",
   "outputs": [
    {
     "data": {
      "text/plain": [
       "['__add__',\n",
       " '__class__',\n",
       " '__class_getitem__',\n",
       " '__contains__',\n",
       " '__delattr__',\n",
       " '__dir__',\n",
       " '__doc__',\n",
       " '__eq__',\n",
       " '__format__',\n",
       " '__ge__',\n",
       " '__getattribute__',\n",
       " '__getitem__',\n",
       " '__getnewargs__',\n",
       " '__getstate__',\n",
       " '__gt__',\n",
       " '__hash__',\n",
       " '__init__',\n",
       " '__init_subclass__',\n",
       " '__iter__',\n",
       " '__le__',\n",
       " '__len__',\n",
       " '__lt__',\n",
       " '__mul__',\n",
       " '__ne__',\n",
       " '__new__',\n",
       " '__reduce__',\n",
       " '__reduce_ex__',\n",
       " '__repr__',\n",
       " '__rmul__',\n",
       " '__setattr__',\n",
       " '__sizeof__',\n",
       " '__str__',\n",
       " '__subclasshook__',\n",
       " 'count',\n",
       " 'index']"
      ]
     },
     "execution_count": 4,
     "metadata": {},
     "output_type": "execute_result"
    }
   ],
   "execution_count": 4
  },
  {
   "metadata": {},
   "cell_type": "markdown",
   "source": "Count Method",
   "id": "cbce84c6a584671f"
  },
  {
   "metadata": {
    "ExecuteTime": {
     "end_time": "2025-08-20T09:34:14.191882Z",
     "start_time": "2025-08-20T09:34:14.187758Z"
    }
   },
   "cell_type": "code",
   "source": [
    "cnt = my_tuple.count(4)\n",
    "print(cnt)"
   ],
   "id": "2d300585222363f9",
   "outputs": [
    {
     "name": "stdout",
     "output_type": "stream",
     "text": [
      "2\n"
     ]
    }
   ],
   "execution_count": 6
  },
  {
   "metadata": {
    "ExecuteTime": {
     "end_time": "2025-08-20T09:36:06.181551Z",
     "start_time": "2025-08-20T09:36:06.176896Z"
    }
   },
   "cell_type": "code",
   "source": "my_tuple.index(4)",
   "id": "2d5705a1d60a93f",
   "outputs": [
    {
     "data": {
      "text/plain": [
       "3"
      ]
     },
     "execution_count": 11,
     "metadata": {},
     "output_type": "execute_result"
    }
   ],
   "execution_count": 11
  }
 ],
 "metadata": {
  "kernelspec": {
   "display_name": "Python 3",
   "language": "python",
   "name": "python3"
  },
  "language_info": {
   "codemirror_mode": {
    "name": "ipython",
    "version": 2
   },
   "file_extension": ".py",
   "mimetype": "text/x-python",
   "name": "python",
   "nbconvert_exporter": "python",
   "pygments_lexer": "ipython2",
   "version": "2.7.6"
  }
 },
 "nbformat": 4,
 "nbformat_minor": 5
}
