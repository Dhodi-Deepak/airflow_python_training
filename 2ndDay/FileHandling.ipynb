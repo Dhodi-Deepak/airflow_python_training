{
 "cells": [
  {
   "metadata": {},
   "cell_type": "markdown",
   "source": "Mode",
   "id": "944df7b3f7f69432"
  },
  {
   "metadata": {},
   "cell_type": "markdown",
   "source": "r (read only)",
   "id": "c9015a4b12d6faea"
  },
  {
   "metadata": {},
   "cell_type": "markdown",
   "source": "r+ (read and write)",
   "id": "b6f0fdc9f671611b"
  },
  {
   "metadata": {},
   "cell_type": "markdown",
   "source": "w (write)",
   "id": "ede2d22bab8c1061"
  },
  {
   "metadata": {},
   "cell_type": "markdown",
   "source": "w+ (write and read)",
   "id": "17b6e834fd3ba94"
  },
  {
   "metadata": {},
   "cell_type": "markdown",
   "source": "a (writing at the end of the existing file)",
   "id": "1f66aafde8875f6c"
  },
  {
   "metadata": {},
   "cell_type": "markdown",
   "source": "a+(writing at the end of the existing file and reading the file)",
   "id": "1ab4a2172b94a422"
  },
  {
   "metadata": {},
   "cell_type": "markdown",
   "source": "",
   "id": "3c80b40b107d7b5b"
  },
  {
   "metadata": {
    "ExecuteTime": {
     "end_time": "2025-08-20T07:56:14.443233Z",
     "start_time": "2025-08-20T07:56:14.438983Z"
    }
   },
   "cell_type": "code",
   "source": [
    "fo = open(r\"/2ndDay\\sample.txt\", \"r\")\n",
    "x=fo.read()\n",
    "print(x)\n",
    "fo.close()\n",
    "print(type(x))"
   ],
   "id": "785ecd2391ae27d6",
   "outputs": [
    {
     "name": "stdout",
     "output_type": "stream",
     "text": [
      "java\n",
      "sql\n",
      "python\n",
      "<class 'str'>\n"
     ]
    }
   ],
   "execution_count": 14
  },
  {
   "metadata": {
    "ExecuteTime": {
     "end_time": "2025-08-20T07:57:23.556934Z",
     "start_time": "2025-08-20T07:57:23.553457Z"
    }
   },
   "cell_type": "code",
   "source": [
    "with open(r\"/2ndDay\\sample.txt\", \"r\") as fo:\n",
    "    for i in fo:\n",
    "        print(i,end=\"\")"
   ],
   "id": "2c03a75926054155",
   "outputs": [
    {
     "name": "stdout",
     "output_type": "stream",
     "text": [
      "java\n",
      "sql\n",
      "python"
     ]
    }
   ],
   "execution_count": 34
  },
  {
   "metadata": {
    "ExecuteTime": {
     "end_time": "2025-08-20T08:04:58.565636Z",
     "start_time": "2025-08-20T08:04:58.561600Z"
    }
   },
   "cell_type": "code",
   "source": [
    "with open(r\"/2ndDay\\sample.txt\", \"w+\") as fo:\n",
    "    fo.write(\"Hi, \\nThis is writing a data to the file\")\n",
    "    fo.seek(0)\n",
    "    x=fo.readlines()\n",
    "    for i in x:\n",
    "        print(i.strip() ) #remove the empty spaces"
   ],
   "id": "529fd9b6ba1a4c8a",
   "outputs": [
    {
     "name": "stdout",
     "output_type": "stream",
     "text": [
      "Hi,\n",
      "This is writing a data to the file\n"
     ]
    }
   ],
   "execution_count": 44
  },
  {
   "metadata": {
    "ExecuteTime": {
     "end_time": "2025-08-20T08:12:44.824546Z",
     "start_time": "2025-08-20T08:12:32.425316Z"
    }
   },
   "cell_type": "code",
   "source": [
    "with open(r\"/2ndDay\\sample.txt\", \"a+\") as fo:\n",
    "    data =input(\"Enter Data that you want to write to the file\")\n",
    "    fo.write(data)\n",
    "    fo.seek(0)\n",
    "    x=fo.readlines()\n",
    "    for i in x:\n",
    "        print(i.strip() ) #remove the empty spaces"
   ],
   "id": "55d47ed351142103",
   "outputs": [
    {
     "name": "stdout",
     "output_type": "stream",
     "text": [
      "Hi my name is deepak i am writing and reading the file using the python code.now i would like to add the next lineit was added successfullythanks\n"
     ]
    }
   ],
   "execution_count": 51
  },
  {
   "metadata": {},
   "cell_type": "code",
   "outputs": [],
   "execution_count": null,
   "source": "",
   "id": "1ffd23ff3856f028"
  }
 ],
 "metadata": {
  "kernelspec": {
   "display_name": "Python 3",
   "language": "python",
   "name": "python3"
  },
  "language_info": {
   "codemirror_mode": {
    "name": "ipython",
    "version": 2
   },
   "file_extension": ".py",
   "mimetype": "text/x-python",
   "name": "python",
   "nbconvert_exporter": "python",
   "pygments_lexer": "ipython2",
   "version": "2.7.6"
  }
 },
 "nbformat": 4,
 "nbformat_minor": 5
}
