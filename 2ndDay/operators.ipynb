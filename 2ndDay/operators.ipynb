{
 "cells": [
  {
   "metadata": {},
   "cell_type": "markdown",
   "source": "Arthametic Operators",
   "id": "13f61a7655037e51"
  },
  {
   "metadata": {
    "ExecuteTime": {
     "end_time": "2025-08-20T06:46:07.969475Z",
     "start_time": "2025-08-20T06:45:58.475267Z"
    }
   },
   "cell_type": "code",
   "source": [
    "x=int(input(\"Enter a number1: \"))\n",
    "y=int(input(\"Enter a number2: \"))\n",
    "print(f\"sum of {x} and {y} is {x+y}\")\n",
    "print(f\"sub of {x} and {y} is {x-y}\")\n",
    "print(f\"mul of {x} and {y} is {x*y}\")\n",
    "print(f\"Div of {x} and {y} is {x/y}\")\n",
    "print(f\"floor Div of {x} and {y} is {x//y}\")\n",
    "print(f\"power of {x} and {y} is {x**y}\")\n",
    "print(f\"mod of {x} and {y} is {x%y}\")"
   ],
   "id": "f6688595d00d2dcc",
   "outputs": [
    {
     "name": "stdout",
     "output_type": "stream",
     "text": [
      "sum of 10 and 2 is 12\n",
      "sub of 10 and 2 is 8\n",
      "mul of 10 and 2 is 20\n",
      "Div of 10 and 2 is 5.0\n",
      "floor Div of 10 and 2 is 5\n",
      "power of 10 and 2 is 100\n",
      "mod of 10 and 2 is 0\n"
     ]
    }
   ],
   "execution_count": 3
  },
  {
   "metadata": {},
   "cell_type": "markdown",
   "source": "Logical Operators",
   "id": "b0a9811fe99227fa"
  },
  {
   "metadata": {
    "ExecuteTime": {
     "end_time": "2025-08-20T06:51:32.039574Z",
     "start_time": "2025-08-20T06:51:28.245110Z"
    }
   },
   "cell_type": "code",
   "source": [
    "x = input(\"Enter Y Or N: \")\n",
    "if x.lower() == 'y':\n",
    "    print('Your Answer is Yes')\n",
    "else:\n",
    "    print('Your Answer is No')"
   ],
   "id": "f5d72093f2062fed",
   "outputs": [
    {
     "name": "stdout",
     "output_type": "stream",
     "text": [
      "Your Answer is Yes\n"
     ]
    }
   ],
   "execution_count": 6
  },
  {
   "metadata": {},
   "cell_type": "markdown",
   "source": "Even or Odd",
   "id": "7d5691c748055ed3"
  },
  {
   "metadata": {
    "ExecuteTime": {
     "end_time": "2025-08-20T06:52:44.264838Z",
     "start_time": "2025-08-20T06:52:38.908611Z"
    }
   },
   "cell_type": "code",
   "source": [
    "n = int(input(\"Enter a number: \"))\n",
    "if n % 2 == 0:\n",
    "    print(f\"{n} is even\")\n",
    "else:\n",
    "    print(f\"{n} is odd\")"
   ],
   "id": "a7d311ee96d7706d",
   "outputs": [
    {
     "name": "stdout",
     "output_type": "stream",
     "text": [
      "5 is odd\n"
     ]
    }
   ],
   "execution_count": 7
  },
  {
   "metadata": {},
   "cell_type": "markdown",
   "source": "check is single digit or not",
   "id": "fadab907915a00b0"
  },
  {
   "metadata": {
    "ExecuteTime": {
     "end_time": "2025-08-20T06:57:58.674997Z",
     "start_time": "2025-08-20T06:57:52.596642Z"
    }
   },
   "cell_type": "code",
   "source": [
    "n = int(input(\"Enter a number: \"))\n",
    "if n>0:\n",
    "    print(f\"{n} is positive\")\n",
    "    if n<10:\n",
    "        print(f\"{n} is a single digit number\")\n",
    "    else:\n",
    "        print(f\"{n} is not a single digit number\")\n",
    "else:\n",
    "    print(f\"{n} is negative\")"
   ],
   "id": "51b7d655d4dd453f",
   "outputs": [
    {
     "name": "stdout",
     "output_type": "stream",
     "text": [
      "144 is positive\n",
      "144 is not a single digit number\n"
     ]
    }
   ],
   "execution_count": 9
  },
  {
   "metadata": {},
   "cell_type": "markdown",
   "source": "Ladder If (elif)",
   "id": "fa1bf9fc894c6307"
  },
  {
   "metadata": {
    "ExecuteTime": {
     "end_time": "2025-08-20T07:01:04.147179Z",
     "start_time": "2025-08-20T07:00:39.805783Z"
    }
   },
   "cell_type": "code",
   "source": [
    "n = int(input(\"Enter a number: \"))\n",
    "if n>0:\n",
    "    print(f\"{n} is positive number\")\n",
    "    if n<10:\n",
    "        print(f\"{n} is a single digit number\")\n",
    "    else:\n",
    "        print(f\"{n} is not a single digit number\")\n",
    "elif n<0:\n",
    "    print(f\"{n} is negative number\")\n",
    "else:\n",
    "    print(f\"{n} is Zero\")"
   ],
   "id": "eba629346cd7c43a",
   "outputs": [
    {
     "name": "stdout",
     "output_type": "stream",
     "text": [
      "0 is Zero\n"
     ]
    }
   ],
   "execution_count": 10
  }
 ],
 "metadata": {
  "kernelspec": {
   "display_name": "Python 3",
   "language": "python",
   "name": "python3"
  },
  "language_info": {
   "codemirror_mode": {
    "name": "ipython",
    "version": 2
   },
   "file_extension": ".py",
   "mimetype": "text/x-python",
   "name": "python",
   "nbconvert_exporter": "python",
   "pygments_lexer": "ipython2",
   "version": "2.7.6"
  }
 },
 "nbformat": 4,
 "nbformat_minor": 5
}
