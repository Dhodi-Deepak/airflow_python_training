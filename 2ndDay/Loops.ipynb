{
 "cells": [
  {
   "metadata": {},
   "cell_type": "markdown",
   "source": "While Loop",
   "id": "15bba26e7f297ef9"
  },
  {
   "metadata": {
    "ExecuteTime": {
     "end_time": "2025-08-20T07:29:14.486968Z",
     "start_time": "2025-08-20T07:29:14.479154Z"
    }
   },
   "cell_type": "code",
   "source": [
    "n=1\n",
    "while n<10:\n",
    "    print(n, end=',')\n",
    "    if n==9:\n",
    "        print('Break statement',end=',')\n",
    "        break\n",
    "    elif n==5:\n",
    "        print('Continue' ,end=',')\n",
    "        n=n+2\n",
    "        continue\n",
    "    n=n+1"
   ],
   "id": "3a134c659684e25a",
   "outputs": [
    {
     "name": "stdout",
     "output_type": "stream",
     "text": [
      "1,2,3,4,5,Continue,7,8,9,Break statement,"
     ]
    }
   ],
   "execution_count": 8
  },
  {
   "metadata": {},
   "cell_type": "markdown",
   "source": "For Loop",
   "id": "d466143df42b92d9"
  },
  {
   "metadata": {
    "ExecuteTime": {
     "end_time": "2025-08-20T07:32:12.403132Z",
     "start_time": "2025-08-20T07:32:12.396066Z"
    }
   },
   "cell_type": "code",
   "source": [
    "student_list ={1:\"Deepak\",2:\"Chakra\"}\n",
    "print(student_list)"
   ],
   "id": "672026d2a607691b",
   "outputs": [
    {
     "name": "stdout",
     "output_type": "stream",
     "text": [
      "{1: 'Deepak', 2: 'Chakra'}\n"
     ]
    }
   ],
   "execution_count": 11
  },
  {
   "metadata": {
    "ExecuteTime": {
     "end_time": "2025-08-20T07:33:15.757393Z",
     "start_time": "2025-08-20T07:33:15.749039Z"
    }
   },
   "cell_type": "code",
   "source": [
    "print(\"Student List\")\n",
    "for Student_id,name in student_list.items():\n",
    "    print(Student_id,name)"
   ],
   "id": "3dd0430dcb43091a",
   "outputs": [
    {
     "name": "stdout",
     "output_type": "stream",
     "text": [
      "Student List\n",
      "1 Deepak\n",
      "2 Chakra\n"
     ]
    }
   ],
   "execution_count": 14
  }
 ],
 "metadata": {
  "kernelspec": {
   "display_name": "Python 3",
   "language": "python",
   "name": "python3"
  },
  "language_info": {
   "codemirror_mode": {
    "name": "ipython",
    "version": 2
   },
   "file_extension": ".py",
   "mimetype": "text/x-python",
   "name": "python",
   "nbconvert_exporter": "python",
   "pygments_lexer": "ipython2",
   "version": "2.7.6"
  }
 },
 "nbformat": 4,
 "nbformat_minor": 5
}
