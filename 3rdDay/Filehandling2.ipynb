{
 "cells": [
  {
   "metadata": {
    "ExecuteTime": {
     "end_time": "2025-08-21T04:26:22.474031Z",
     "start_time": "2025-08-21T04:26:22.467107Z"
    }
   },
   "cell_type": "code",
   "source": "import re",
   "id": "fd54aeea45ef9c56",
   "outputs": [],
   "execution_count": 2
  },
  {
   "metadata": {
    "ExecuteTime": {
     "end_time": "2025-08-21T04:28:38.581486Z",
     "start_time": "2025-08-21T04:28:38.572317Z"
    }
   },
   "cell_type": "code",
   "source": [
    "with open(r'/2ndDay\\sample.txt', 'r') as f:\n",
    "    for line in f:\n",
    "        if re.search('python',line):\n",
    "            print(line,end='')\n"
   ],
   "id": "initial_id",
   "outputs": [
    {
     "name": "stdout",
     "output_type": "stream",
     "text": [
      "python\n",
      "python developer\n",
      "python machine learning"
     ]
    }
   ],
   "execution_count": 7
  },
  {
   "metadata": {},
   "cell_type": "markdown",
   "source": "Regex [0-9] [a-z] [A-Z] {m} number of occurances \\w alphanumeric \\d digit ^ $",
   "id": "9a210bb1361f8b42"
  },
  {
   "metadata": {
    "ExecuteTime": {
     "end_time": "2025-08-21T04:40:23.796729Z",
     "start_time": "2025-08-21T04:40:23.788039Z"
    }
   },
   "cell_type": "code",
   "source": [
    "with open(r'/2ndDay\\sample.txt', 'r') as f:\n",
    "    for line in f:\n",
    "        if re.search('[6-9][0-9]{9}',line):\n",
    "            print(line,end='')"
   ],
   "id": "e4623ce250b571e8",
   "outputs": [
    {
     "name": "stdout",
     "output_type": "stream",
     "text": [
      "9030809567\n",
      "6530809567\n"
     ]
    }
   ],
   "execution_count": 8
  },
  {
   "metadata": {
    "ExecuteTime": {
     "end_time": "2025-08-21T04:50:23.916943Z",
     "start_time": "2025-08-21T04:50:23.907179Z"
    }
   },
   "cell_type": "code",
   "source": [
    "with open(r'/2ndDay\\sample.txt', 'r') as f:\n",
    "    for line in f:\n",
    "        if re.search(r'\\w+[@]\\w+[.]\\w+',line):\n",
    "            print(line,end='')"
   ],
   "id": "9a7a3e010d6b2336",
   "outputs": [
    {
     "name": "stdout",
     "output_type": "stream",
     "text": [
      "Deepak@gmail.com\n",
      "test@gmail.com"
     ]
    }
   ],
   "execution_count": 13
  },
  {
   "metadata": {},
   "cell_type": "markdown",
   "source": "Exact search",
   "id": "a180c7fc3a4dae1"
  },
  {
   "metadata": {},
   "cell_type": "code",
   "outputs": [
    {
     "name": "stdout",
     "output_type": "stream",
     "text": [
      "python\n",
      "python\n",
      "python"
     ]
    }
   ],
   "execution_count": 15,
   "source": [
    "with open(r'/2ndDay\\sample.txt', 'r') as f:\n",
    "    for line in f:\n",
    "        if re.search('^python$',line):\n",
    "            print(line,end='')\n"
   ],
   "id": "35f03325a8938e7d"
  },
  {
   "metadata": {},
   "cell_type": "markdown",
   "source": "ends with python $",
   "id": "c50abae277f21a36"
  },
  {
   "metadata": {
    "ExecuteTime": {
     "end_time": "2025-08-21T05:05:19.157801Z",
     "start_time": "2025-08-21T05:05:19.151925Z"
    }
   },
   "cell_type": "code",
   "source": [
    "with open(r'/2ndDay\\sample.txt', 'r') as f:\n",
    "    for line in f:\n",
    "        if re.search('python$',line):\n",
    "            print(line,end='')"
   ],
   "id": "1269c6b36f1446b",
   "outputs": [
    {
     "name": "stdout",
     "output_type": "stream",
     "text": [
      "python\n",
      "python\n",
      "python\n",
      "ml python"
     ]
    }
   ],
   "execution_count": 17
  }
 ],
 "metadata": {
  "kernelspec": {
   "display_name": "Python 3",
   "language": "python",
   "name": "python3"
  },
  "language_info": {
   "codemirror_mode": {
    "name": "ipython",
    "version": 2
   },
   "file_extension": ".py",
   "mimetype": "text/x-python",
   "name": "python",
   "nbconvert_exporter": "python",
   "pygments_lexer": "ipython2",
   "version": "2.7.6"
  }
 },
 "nbformat": 4,
 "nbformat_minor": 5
}
