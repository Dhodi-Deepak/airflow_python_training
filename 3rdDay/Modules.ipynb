{
 "cells": [
  {
   "metadata": {},
   "cell_type": "raw",
   "source": "modules are nothing but simple .py files",
   "id": "b479e24067ebe169"
  },
  {
   "metadata": {},
   "cell_type": "markdown",
   "source": "inbuilt modules,third party modules,customised modules",
   "id": "b29c6132bb4fabec"
  },
  {
   "metadata": {},
   "cell_type": "markdown",
   "source": "to check third party modules",
   "id": "c0ba68f8f3dbef34"
  },
  {
   "metadata": {},
   "cell_type": "markdown",
   "source": "in cmd or editor",
   "id": "8b7120714619ccc1"
  },
  {
   "metadata": {},
   "cell_type": "code",
   "source": [
    "import os\n",
    "\n",
    "help(os)"
   ],
   "id": "98595c7c297b15a6",
   "outputs": [],
   "execution_count": null
  },
  {
   "metadata": {},
   "cell_type": "markdown",
   "source": "how to import modules and to access",
   "id": "e6f8b7a6e4d0a0ca"
  },
  {
   "metadata": {
    "ExecuteTime": {
     "end_time": "2025-08-21T09:03:14.555155Z",
     "start_time": "2025-08-21T09:03:14.545113Z"
    }
   },
   "cell_type": "code",
   "source": [
    "import datetime  # without alias\n",
    "datetime.date.today()"
   ],
   "id": "d72d47972919500c",
   "outputs": [
    {
     "data": {
      "text/plain": [
       "datetime.date(2025, 8, 21)"
      ]
     },
     "execution_count": 4,
     "metadata": {},
     "output_type": "execute_result"
    }
   ],
   "execution_count": 4
  },
  {
   "metadata": {
    "ExecuteTime": {
     "end_time": "2025-08-21T09:03:16.528303Z",
     "start_time": "2025-08-21T09:03:16.517143Z"
    }
   },
   "cell_type": "code",
   "source": [
    "import datetime as dt #with alias\n",
    "dt.date.today()"
   ],
   "id": "3b63ade17a267a9",
   "outputs": [
    {
     "data": {
      "text/plain": [
       "datetime.date(2025, 8, 21)"
      ]
     },
     "execution_count": 5,
     "metadata": {},
     "output_type": "execute_result"
    }
   ],
   "execution_count": 5
  },
  {
   "metadata": {
    "ExecuteTime": {
     "end_time": "2025-08-21T09:03:17.932553Z",
     "start_time": "2025-08-21T09:03:17.922970Z"
    }
   },
   "cell_type": "code",
   "source": [
    "from datetime import date #without alias  and loading  required property\n",
    "date.today()"
   ],
   "id": "bfe362f34a9d4d19",
   "outputs": [
    {
     "data": {
      "text/plain": [
       "datetime.date(2025, 8, 21)"
      ]
     },
     "execution_count": 6,
     "metadata": {},
     "output_type": "execute_result"
    }
   ],
   "execution_count": 6
  },
  {
   "metadata": {},
   "cell_type": "markdown",
   "source": "Importing customised module",
   "id": "c619e6a65e6eb0ec"
  },
  {
   "metadata": {
    "ExecuteTime": {
     "end_time": "2025-08-21T09:03:22.263729Z",
     "start_time": "2025-08-21T09:03:22.256283Z"
    }
   },
   "cell_type": "code",
   "source": [
    "import Arithmatic\n",
    "s1= Arithmatic.addition(5, 8)\n",
    "print(s1)"
   ],
   "id": "d5827095e2975",
   "outputs": [
    {
     "name": "stdout",
     "output_type": "stream",
     "text": [
      "13\n"
     ]
    }
   ],
   "execution_count": 7
  },
  {
   "metadata": {
    "ExecuteTime": {
     "end_time": "2025-08-21T09:16:34.459830Z",
     "start_time": "2025-08-21T09:16:34.451077Z"
    }
   },
   "cell_type": "code",
   "source": [
    "import  common_modules as cm\n",
    "print(cm.add(1,1))\n",
    "print(cm.sub(2,2))"
   ],
   "id": "642318bf2a8b3734",
   "outputs": [
    {
     "name": "stdout",
     "output_type": "stream",
     "text": [
      "2\n",
      "0\n"
     ]
    }
   ],
   "execution_count": 9
  }
 ],
 "metadata": {
  "kernelspec": {
   "display_name": "Python 3",
   "language": "python",
   "name": "python3"
  },
  "language_info": {
   "codemirror_mode": {
    "name": "ipython",
    "version": 2
   },
   "file_extension": ".py",
   "mimetype": "text/x-python",
   "name": "python",
   "nbconvert_exporter": "python",
   "pygments_lexer": "ipython2",
   "version": "2.7.6"
  }
 },
 "nbformat": 4,
 "nbformat_minor": 5
}
