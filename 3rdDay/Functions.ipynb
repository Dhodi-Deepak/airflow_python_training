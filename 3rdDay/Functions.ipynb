{
 "cells": [
  {
   "metadata": {},
   "cell_type": "raw",
   "source": "Function is created for reusablilityF",
   "id": "2493622298884f5e"
  },
  {
   "metadata": {},
   "cell_type": "markdown",
   "source": "Function without input parmaters",
   "id": "ad6272db783ad900"
  },
  {
   "metadata": {},
   "cell_type": "code",
   "outputs": [
    {
     "name": "stdout",
     "output_type": "stream",
     "text": [
      "Before Creation of Function\n",
      "Function is called\n",
      "After Calling of Function 1\n",
      "Function is called\n"
     ]
    }
   ],
   "execution_count": 1,
   "source": [
    "print('Before Creation of Function')\n",
    "def f1():\n",
    "    print('Function is called')\n",
    " #Calling a function   1st time\n",
    "f1()\n",
    "print('After Calling of Function 1')\n",
    " #Calling a function   2nd time\n",
    "f1()\n"
   ],
   "id": "initial_id"
  },
  {
   "metadata": {},
   "cell_type": "markdown",
   "source": "Fucntion with the Parameters",
   "id": "29b0d44791cc1696"
  },
  {
   "metadata": {
    "ExecuteTime": {
     "end_time": "2025-08-21T05:18:11.331281Z",
     "start_time": "2025-08-21T05:18:11.323548Z"
    }
   },
   "cell_type": "code",
   "source": [
    "def cal(x,y):\n",
    "    print(f'{x} + {y}= {x+y}')\n",
    "    print(f'{x} - {y}= {x-y}')\n",
    "    print(f'{x} * {y}= {x*y}')"
   ],
   "id": "3f203abda8976ecd",
   "outputs": [],
   "execution_count": 2
  },
  {
   "metadata": {
    "ExecuteTime": {
     "end_time": "2025-08-21T05:19:35.432578Z",
     "start_time": "2025-08-21T05:19:35.423612Z"
    }
   },
   "cell_type": "code",
   "source": [
    "cal(5,6)\n",
    "cal(4,2)"
   ],
   "id": "e48d9d4fe9b5fedd",
   "outputs": [
    {
     "name": "stdout",
     "output_type": "stream",
     "text": [
      "5 + 6= 11\n",
      "5 - 6= -1\n",
      "5 * 6= 30\n",
      "4 + 2= 6\n",
      "4 - 2= 2\n",
      "4 * 2= 8\n"
     ]
    }
   ],
   "execution_count": 4
  },
  {
   "metadata": {},
   "cell_type": "markdown",
   "source": "Scope of Variable",
   "id": "d84e45ab96af526"
  },
  {
   "metadata": {
    "ExecuteTime": {
     "end_time": "2025-08-21T05:30:28.806966Z",
     "start_time": "2025-08-21T05:30:28.797918Z"
    }
   },
   "cell_type": "code",
   "source": [
    "a=10\n",
    "print('It is global a',a)\n",
    "def test():\n",
    "    a=100\n",
    "    b=20\n",
    "    global c\n",
    "    c=10\n",
    "    print('I am in test not global a',a)\n",
    "    print('I am in test',b)\n",
    "\n",
    "def test2():\n",
    "    print('I am in test2 it is global c',c)\n",
    "    print('I am in test2 it is global a',a)\n",
    "\n",
    "test()\n",
    "test2()"
   ],
   "id": "fedb9f69016d9e8d",
   "outputs": [
    {
     "name": "stdout",
     "output_type": "stream",
     "text": [
      "It is global a 10\n",
      "I am in test not global a 100\n",
      "I am in test 20\n",
      "I am in test2 it is global c 10\n",
      "I am in test2 it is global a 10\n"
     ]
    }
   ],
   "execution_count": 7
  },
  {
   "metadata": {},
   "cell_type": "markdown",
   "source": "Return in Function",
   "id": "195a835c574a366a"
  },
  {
   "metadata": {
    "ExecuteTime": {
     "end_time": "2025-08-21T05:33:05.549075Z",
     "start_time": "2025-08-21T05:33:05.540407Z"
    }
   },
   "cell_type": "code",
   "source": [
    "def addition(x,y):\n",
    "    return x+y"
   ],
   "id": "1167c59974753133",
   "outputs": [],
   "execution_count": 8
  },
  {
   "metadata": {
    "ExecuteTime": {
     "end_time": "2025-08-21T05:33:19.231824Z",
     "start_time": "2025-08-21T05:33:19.223787Z"
    }
   },
   "cell_type": "code",
   "source": [
    "k=addition(10,20)\n",
    "print(k)"
   ],
   "id": "bf8225576291f005",
   "outputs": [
    {
     "name": "stdout",
     "output_type": "stream",
     "text": [
      "30\n"
     ]
    }
   ],
   "execution_count": 9
  },
  {
   "metadata": {},
   "cell_type": "markdown",
   "source": " keyword arugments",
   "id": "36c199b84793ecb7"
  },
  {
   "metadata": {
    "ExecuteTime": {
     "end_time": "2025-08-21T06:01:02.154253Z",
     "start_time": "2025-08-21T06:01:02.145955Z"
    }
   },
   "cell_type": "code",
   "source": [
    "def check(Name,Phoneno):\n",
    "    import re\n",
    "    if 2 < len(Name) < 16:\n",
    "        if re.search( r'^[6-9][0-9]{9}$',Phoneno):\n",
    "            print(f'Validated Successfully \\nName:{Name} \\nPhoneNo: {Phoneno}')"
   ],
   "id": "88e0dfba6acc43ac",
   "outputs": [],
   "execution_count": 18
  },
  {
   "metadata": {
    "ExecuteTime": {
     "end_time": "2025-08-21T06:01:04.025810Z",
     "start_time": "2025-08-21T06:01:04.018872Z"
    }
   },
   "cell_type": "code",
   "source": "check(Phoneno='9030309567',Name='Deepak')",
   "id": "a2811f2ac4234496",
   "outputs": [
    {
     "name": "stdout",
     "output_type": "stream",
     "text": [
      "Validated Successfully \n",
      "Name:Deepak \n",
      "PhoneNo: 9030309567\n"
     ]
    }
   ],
   "execution_count": 19
  },
  {
   "metadata": {},
   "cell_type": "markdown",
   "source": "Default Args",
   "id": "68e1e9b7dd4cbb4e"
  },
  {
   "metadata": {
    "ExecuteTime": {
     "end_time": "2025-08-21T06:02:58.720938Z",
     "start_time": "2025-08-21T06:02:58.712496Z"
    }
   },
   "cell_type": "code",
   "source": [
    "def Default_check(Name,Phoneno,dob='NA'):\n",
    "    import re\n",
    "    if 2 < len(Name) < 16:\n",
    "        if re.search( r'^[6-9][0-9]{9}$',Phoneno):\n",
    "            print(f'Validated Successfully \\nName:{Name} \\nPhoneNo: {Phoneno} \\ndob:{dob}')"
   ],
   "id": "35591d4c4431352a",
   "outputs": [],
   "execution_count": 20
  },
  {
   "metadata": {
    "ExecuteTime": {
     "end_time": "2025-08-21T06:03:00.229579Z",
     "start_time": "2025-08-21T06:03:00.220669Z"
    }
   },
   "cell_type": "code",
   "source": "Default_check(Phoneno='9030309567',Name='Deepak')",
   "id": "7cfd40aa27aea535",
   "outputs": [
    {
     "name": "stdout",
     "output_type": "stream",
     "text": [
      "Validated Successfully \n",
      "Name:Deepak \n",
      "PhoneNo: 9030309567 \n",
      "dob:NA\n"
     ]
    }
   ],
   "execution_count": 21
  },
  {
   "metadata": {},
   "cell_type": "markdown",
   "source": "*Args",
   "id": "42968690b893f2b2"
  },
  {
   "metadata": {
    "ExecuteTime": {
     "end_time": "2025-08-21T06:07:21.599228Z",
     "start_time": "2025-08-21T06:07:21.592792Z"
    }
   },
   "cell_type": "code",
   "source": [
    "def star_args(*parmeters):\n",
    "    print(*parmeters)"
   ],
   "id": "168520d7741f25a",
   "outputs": [],
   "execution_count": 23
  },
  {
   "metadata": {
    "ExecuteTime": {
     "end_time": "2025-08-21T06:07:23.056658Z",
     "start_time": "2025-08-21T06:07:23.049007Z"
    }
   },
   "cell_type": "code",
   "source": "star_args(1,2,3)",
   "id": "a926d1ff86fd5603",
   "outputs": [
    {
     "name": "stdout",
     "output_type": "stream",
     "text": [
      "1 2 3\n"
     ]
    }
   ],
   "execution_count": 24
  },
  {
   "metadata": {},
   "cell_type": "markdown",
   "source": "**Kwargs",
   "id": "e974a416770e373e"
  },
  {
   "metadata": {
    "ExecuteTime": {
     "end_time": "2025-08-21T06:31:26.766651Z",
     "start_time": "2025-08-21T06:31:26.759543Z"
    }
   },
   "cell_type": "code",
   "source": [
    "def keywordarguments(**parameters):\n",
    "    for key,value in parameters.items():\n",
    "        print(key,':',value,',', end='')"
   ],
   "id": "88b10cc60b85c1b2",
   "outputs": [],
   "execution_count": 32
  },
  {
   "metadata": {
    "ExecuteTime": {
     "end_time": "2025-08-21T06:31:29.975661Z",
     "start_time": "2025-08-21T06:31:29.967727Z"
    }
   },
   "cell_type": "code",
   "source": "keywordarguments(name='Deepak',city='hyderabad')",
   "id": "e8d677b78993ff6e",
   "outputs": [
    {
     "name": "stdout",
     "output_type": "stream",
     "text": [
      "name : Deepak ,city : hyderabad ,"
     ]
    }
   ],
   "execution_count": 33
  },
  {
   "metadata": {},
   "cell_type": "markdown",
   "source": "*args **kwargs combination",
   "id": "a9bace1a4618849d"
  },
  {
   "metadata": {
    "ExecuteTime": {
     "end_time": "2025-08-21T06:35:35.901947Z",
     "start_time": "2025-08-21T06:35:35.896663Z"
    }
   },
   "cell_type": "code",
   "source": [
    "def combination(a,b,*args,**kwargs):\n",
    "    print(a,b)\n",
    "    print(args)\n",
    "    for key,value in kwargs.items():\n",
    "        print(key,':',value,',', end='')"
   ],
   "id": "544e2b14c8881b0a",
   "outputs": [],
   "execution_count": 40
  },
  {
   "metadata": {
    "ExecuteTime": {
     "end_time": "2025-08-21T06:35:37.250769Z",
     "start_time": "2025-08-21T06:35:37.242750Z"
    }
   },
   "cell_type": "code",
   "source": "combination(1,2,3,4,5,6,name='deepak',city='hyderabad')",
   "id": "6b833a7aff32859d",
   "outputs": [
    {
     "name": "stdout",
     "output_type": "stream",
     "text": [
      "1 2\n",
      "(3, 4, 5, 6)\n",
      "name : deepak ,city : hyderabad ,"
     ]
    }
   ],
   "execution_count": 41
  }
 ],
 "metadata": {
  "kernelspec": {
   "display_name": "Python 3",
   "language": "python",
   "name": "python3"
  },
  "language_info": {
   "codemirror_mode": {
    "name": "ipython",
    "version": 2
   },
   "file_extension": ".py",
   "mimetype": "text/x-python",
   "name": "python",
   "nbconvert_exporter": "python",
   "pygments_lexer": "ipython2",
   "version": "2.7.6"
  }
 },
 "nbformat": 4,
 "nbformat_minor": 5
}
