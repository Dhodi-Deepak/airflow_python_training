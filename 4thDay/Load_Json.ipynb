{
 "cells": [
  {
   "metadata": {},
   "cell_type": "markdown",
   "source": "Loading Json\n",
   "id": "62a812d405d99f9b"
  },
  {
   "metadata": {},
   "cell_type": "code",
   "source": "import json",
   "id": "initial_id",
   "outputs": [],
   "execution_count": null
  },
  {
   "metadata": {},
   "cell_type": "code",
   "source": [
    "with open('emp_detials.json') as f:\n",
    "     x= json.load(f)\n",
    "print(x)\n",
    "print('First Name:',x['firstName'])"
   ],
   "id": "61db2c093f8799e7",
   "outputs": [],
   "execution_count": null
  },
  {
   "metadata": {},
   "cell_type": "markdown",
   "source": "write Json",
   "id": "85b71d7c8d851e19"
  },
  {
   "metadata": {
    "ExecuteTime": {
     "end_time": "2025-08-22T04:40:34.263224Z",
     "start_time": "2025-08-22T04:40:34.256653Z"
    }
   },
   "cell_type": "code",
   "source": [
    "data ={'name':'Deepak','age':30,'city':'Hyderbad','occupation':'Developer','hobbies':['reading','programming','listing music']}\n",
    "print(data)\n",
    "with open('write_Json.json', 'w') as f:\n",
    "    json.dump(data, f)"
   ],
   "id": "6687603960e9af3a",
   "outputs": [
    {
     "name": "stdout",
     "output_type": "stream",
     "text": [
      "{'name': 'Deepak', 'age': 30, 'city': 'Hyderbad', 'occupation': 'Developer', 'hobbies': ['reading', 'programming', 'listing music']}\n"
     ]
    }
   ],
   "execution_count": 17
  }
 ],
 "metadata": {
  "kernelspec": {
   "display_name": "Python 3",
   "language": "python",
   "name": "python3"
  },
  "language_info": {
   "codemirror_mode": {
    "name": "ipython",
    "version": 2
   },
   "file_extension": ".py",
   "mimetype": "text/x-python",
   "name": "python",
   "nbconvert_exporter": "python",
   "pygments_lexer": "ipython2",
   "version": "2.7.6"
  }
 },
 "nbformat": 4,
 "nbformat_minor": 5
}
