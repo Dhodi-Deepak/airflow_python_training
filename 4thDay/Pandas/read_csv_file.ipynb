{
 "cells": [
  {
   "cell_type": "code",
   "id": "initial_id",
   "metadata": {
    "ExecuteTime": {
     "end_time": "2025-08-22T05:55:44.149127Z",
     "start_time": "2025-08-22T05:55:44.146161Z"
    }
   },
   "source": [
    "import pandas as pd\n",
    "from pandas import read_csv, read_excel"
   ],
   "outputs": [],
   "execution_count": 39
  },
  {
   "cell_type": "code",
   "id": "fe8ffe2f9559e3ee",
   "metadata": {
    "ExecuteTime": {
     "end_time": "2025-08-22T05:55:44.172756Z",
     "start_time": "2025-08-22T05:55:44.164217Z"
    }
   },
   "source": [
    "df= pd.read_csv(r'D:\\python_training\\4thDay\\Pandas\\marks.csv')\n",
    "print('\\n=== First 5 rows from csv ===')\n",
    "print(df.head(5))\n",
    "print('\\n=== Last 5 rows from csv ===')\n",
    "print(df.tail(5))"
   ],
   "outputs": [
    {
     "name": "stdout",
     "output_type": "stream",
     "text": [
      "\n",
      "=== First 5 rows from csv ===\n",
      "   Roll Number       Name  Maths  Science  English  History  Geography\n",
      "0            1  Student_1     86       39       82       56         70\n",
      "1            2  Student_2     49       48       37       92         58\n",
      "2            3  Student_3     95       61       54       92         57\n",
      "3            4  Student_4     55       43       58       83         96\n",
      "4            5  Student_5     58       49       88       86         71\n",
      "\n",
      "=== Last 5 rows from csv ===\n",
      "    Roll Number         Name  Maths  Science  English  History  Geography\n",
      "95           96   Student_96     69       46       85       70         81\n",
      "96           97   Student_97     99       71       59       44         83\n",
      "97           98   Student_98     81       66       92       58         48\n",
      "98           99   Student_99     37       43       97       98         49\n",
      "99          100  Student_100     35       53       96       83         65\n"
     ]
    }
   ],
   "execution_count": 40
  },
  {
   "metadata": {
    "ExecuteTime": {
     "end_time": "2025-08-22T05:55:44.205481Z",
     "start_time": "2025-08-22T05:55:44.201309Z"
    }
   },
   "cell_type": "code",
   "source": [
    "print('\\n=== shape of df ===')\n",
    "print(df.shape)"
   ],
   "id": "4cfef2093c2bfde",
   "outputs": [
    {
     "name": "stdout",
     "output_type": "stream",
     "text": [
      "\n",
      "=== shape of df ===\n",
      "(100, 7)\n"
     ]
    }
   ],
   "execution_count": 41
  },
  {
   "metadata": {
    "ExecuteTime": {
     "end_time": "2025-08-22T05:55:44.226726Z",
     "start_time": "2025-08-22T05:55:44.219975Z"
    }
   },
   "cell_type": "code",
   "source": [
    "print('\\n=== info of df ===')\n",
    "print(df.info())"
   ],
   "id": "8b65982a1501b917",
   "outputs": [
    {
     "name": "stdout",
     "output_type": "stream",
     "text": [
      "\n",
      "=== info of df ===\n",
      "<class 'pandas.core.frame.DataFrame'>\n",
      "RangeIndex: 100 entries, 0 to 99\n",
      "Data columns (total 7 columns):\n",
      " #   Column       Non-Null Count  Dtype \n",
      "---  ------       --------------  ----- \n",
      " 0   Roll Number  100 non-null    int64 \n",
      " 1   Name         100 non-null    object\n",
      " 2   Maths        100 non-null    int64 \n",
      " 3   Science      100 non-null    int64 \n",
      " 4   English      100 non-null    int64 \n",
      " 5   History      100 non-null    int64 \n",
      " 6   Geography    100 non-null    int64 \n",
      "dtypes: int64(6), object(1)\n",
      "memory usage: 5.6+ KB\n",
      "None\n"
     ]
    }
   ],
   "execution_count": 42
  },
  {
   "metadata": {
    "ExecuteTime": {
     "end_time": "2025-08-22T05:55:44.249985Z",
     "start_time": "2025-08-22T05:55:44.240539Z"
    }
   },
   "cell_type": "code",
   "source": [
    "print('\\n=== Describes of df ===')\n",
    "print(df.describe())"
   ],
   "id": "a032e77f3b2c62a5",
   "outputs": [
    {
     "name": "stdout",
     "output_type": "stream",
     "text": [
      "\n",
      "=== Describes of df ===\n",
      "       Roll Number       Maths     Science     English   History   Geography\n",
      "count   100.000000  100.000000  100.000000  100.000000  100.0000  100.000000\n",
      "mean     50.500000   67.800000   65.740000   68.480000   67.2800   67.180000\n",
      "std      29.011492   21.068431   20.065861   17.376101   19.6721   18.359144\n",
      "min       1.000000   35.000000   35.000000   36.000000   35.0000   35.000000\n",
      "25%      25.750000   48.750000   48.750000   55.000000   50.0000   51.000000\n",
      "50%      50.500000   69.000000   66.000000   67.000000   67.0000   68.000000\n",
      "75%      75.250000   87.000000   85.250000   82.000000   85.2500   83.000000\n",
      "max     100.000000   99.000000   97.000000   99.000000   99.0000   99.000000\n"
     ]
    }
   ],
   "execution_count": 43
  },
  {
   "metadata": {
    "ExecuteTime": {
     "end_time": "2025-08-22T05:55:44.264549Z",
     "start_time": "2025-08-22T05:55:44.261227Z"
    }
   },
   "cell_type": "code",
   "source": [
    "print('\\n===Column Names of Df ===')\n",
    "print(df.columns)"
   ],
   "id": "4fa3629de75e3b3",
   "outputs": [
    {
     "name": "stdout",
     "output_type": "stream",
     "text": [
      "\n",
      "===Column Names of Df ===\n",
      "Index(['Roll Number', 'Name', 'Maths', 'Science', 'English', 'History',\n",
      "       'Geography'],\n",
      "      dtype='object')\n"
     ]
    }
   ],
   "execution_count": 44
  },
  {
   "metadata": {
    "ExecuteTime": {
     "end_time": "2025-08-22T05:55:44.286676Z",
     "start_time": "2025-08-22T05:55:44.282007Z"
    }
   },
   "cell_type": "code",
   "source": [
    "print('\\n===Column Values of Df  For Name===')\n",
    "print(df['Name'].head())"
   ],
   "id": "ae8f0ab18e54a902",
   "outputs": [
    {
     "name": "stdout",
     "output_type": "stream",
     "text": [
      "\n",
      "===Column Values of Df  For Name===\n",
      "0    Student_1\n",
      "1    Student_2\n",
      "2    Student_3\n",
      "3    Student_4\n",
      "4    Student_5\n",
      "Name: Name, dtype: object\n"
     ]
    }
   ],
   "execution_count": 45
  },
  {
   "metadata": {
    "ExecuteTime": {
     "end_time": "2025-08-22T05:55:44.307966Z",
     "start_time": "2025-08-22T05:55:44.302911Z"
    }
   },
   "cell_type": "code",
   "source": [
    "print('\\n===top 5  rows of df ===')\n",
    "print(df.loc[:5])"
   ],
   "id": "dca25ebeafbb8fdb",
   "outputs": [
    {
     "name": "stdout",
     "output_type": "stream",
     "text": [
      "\n",
      "===top 5  rows of df ===\n",
      "   Roll Number       Name  Maths  Science  English  History  Geography\n",
      "0            1  Student_1     86       39       82       56         70\n",
      "1            2  Student_2     49       48       37       92         58\n",
      "2            3  Student_3     95       61       54       92         57\n",
      "3            4  Student_4     55       43       58       83         96\n",
      "4            5  Student_5     58       49       88       86         71\n",
      "5            6  Student_6     37       76       67       76         46\n"
     ]
    }
   ],
   "execution_count": 46
  },
  {
   "metadata": {
    "ExecuteTime": {
     "end_time": "2025-08-22T05:55:44.328553Z",
     "start_time": "2025-08-22T05:55:44.323309Z"
    }
   },
   "cell_type": "code",
   "source": [
    "print('\\n===top 5  rows of df for first 3 columns ===')\n",
    "print(df.iloc[0:3,0:5])"
   ],
   "id": "e02b4f7c709bba15",
   "outputs": [
    {
     "name": "stdout",
     "output_type": "stream",
     "text": [
      "\n",
      "===top 5  rows of df for first 3 columns ===\n",
      "   Roll Number       Name  Maths  Science  English\n",
      "0            1  Student_1     86       39       82\n",
      "1            2  Student_2     49       48       37\n",
      "2            3  Student_3     95       61       54\n"
     ]
    }
   ],
   "execution_count": 47
  },
  {
   "metadata": {},
   "cell_type": "markdown",
   "source": "Reading excel file with sheet Name",
   "id": "ef0af5610f70e68c"
  },
  {
   "metadata": {},
   "cell_type": "code",
   "outputs": [],
   "execution_count": null,
   "source": [
    "df =read_excel('D:\\python_training\\4thDay\\Pandas\\marks.xlsx',sheet_name='mark_with_missing_data')\n",
    "df = df.fillna(df.mean(numeric_only=True))\n",
    "df=  df.drop_duplicates()\n",
    "df.to_csv(r'D:\\python_training\\4thDay\\Pandas\\cleaned.csv',index=False\n",
    "\n"
   ],
   "id": "738687dfc71df82"
  }
 ],
 "metadata": {
  "kernelspec": {
   "display_name": "Python 3 (ipykernel)",
   "language": "python",
   "name": "python3"
  },
  "language_info": {
   "codemirror_mode": {
    "name": "ipython",
    "version": 3
   },
   "file_extension": ".py",
   "mimetype": "text/x-python",
   "name": "python",
   "nbconvert_exporter": "python",
   "pygments_lexer": "ipython3",
   "version": "3.13.7"
  }
 },
 "nbformat": 4,
 "nbformat_minor": 5
}
