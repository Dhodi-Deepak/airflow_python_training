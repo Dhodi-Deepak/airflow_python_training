{
 "cells": [
  {
   "cell_type": "code",
   "id": "initial_id",
   "metadata": {
    "collapsed": true,
    "ExecuteTime": {
     "end_time": "2025-08-22T05:01:03.176158Z",
     "start_time": "2025-08-22T05:01:03.164296Z"
    }
   },
   "source": [
    "import pandas as pd\n",
    "print(pd.__version__)\n",
    "x=pd.read_json(r'D:\\python_training\\4thDay\\write_Json.json')\n",
    "print(x)\n",
    "print(\"Data Frame\")\n",
    "print(pd.DataFrame(x))\n"
   ],
   "outputs": [
    {
     "name": "stdout",
     "output_type": "stream",
     "text": [
      "2.3.1\n",
      "     name  age      city occupation        hobbies\n",
      "0  Deepak   30  Hyderbad  Developer        reading\n",
      "1  Deepak   30  Hyderbad  Developer    programming\n",
      "2  Deepak   30  Hyderbad  Developer  listing music\n",
      "Data Frame\n",
      "     name  age      city occupation        hobbies\n",
      "0  Deepak   30  Hyderbad  Developer        reading\n",
      "1  Deepak   30  Hyderbad  Developer    programming\n",
      "2  Deepak   30  Hyderbad  Developer  listing music\n"
     ]
    }
   ],
   "execution_count": 2
  },
  {
   "metadata": {},
   "cell_type": "markdown",
   "source": "Creating Dataframe",
   "id": "584c5f2271b84dba"
  },
  {
   "metadata": {
    "ExecuteTime": {
     "end_time": "2025-08-22T05:08:00.476049Z",
     "start_time": "2025-08-22T05:08:00.466150Z"
    }
   },
   "cell_type": "code",
   "source": [
    "data = {\n",
    "    \"Roll Number\": [1, 2, 3, 4, 5],\n",
    "    \"Name\": [\"Alice\", \"Bob\", \"Charlie\", \"David\", \"Eva\"],\n",
    "    \"Maths\": [85, 90, 78, 88, 92],\n",
    "    \"Science\": [80, 95, 75, 85, 89]\n",
    "}\n",
    "df = pd.DataFrame(data)\n",
    "print(\"\\n=== DataFrame from Dictionary ===\")\n",
    "print(df)"
   ],
   "id": "ba1b6c708542823f",
   "outputs": [
    {
     "name": "stdout",
     "output_type": "stream",
     "text": [
      "\n",
      "=== DataFrame from Dictionary ===\n",
      "   Roll Number     Name  Maths  Science\n",
      "0            1    Alice     85       80\n",
      "1            2      Bob     90       95\n",
      "2            3  Charlie     78       75\n",
      "3            4    David     88       85\n",
      "4            5      Eva     92       89\n"
     ]
    }
   ],
   "execution_count": 3
  }
 ],
 "metadata": {
  "kernelspec": {
   "display_name": "Python 3",
   "language": "python",
   "name": "python3"
  },
  "language_info": {
   "codemirror_mode": {
    "name": "ipython",
    "version": 2
   },
   "file_extension": ".py",
   "mimetype": "text/x-python",
   "name": "python",
   "nbconvert_exporter": "python",
   "pygments_lexer": "ipython2",
   "version": "2.7.6"
  }
 },
 "nbformat": 4,
 "nbformat_minor": 5
}
