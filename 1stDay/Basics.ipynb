{
 "cells": [
  {
   "metadata": {},
   "cell_type": "markdown",
   "source": "printing",
   "id": "f5881e96ee4c914f"
  },
  {
   "metadata": {
    "ExecuteTime": {
     "end_time": "2025-08-21T09:22:30.213848Z",
     "start_time": "2025-08-21T09:22:30.198098Z"
    }
   },
   "cell_type": "code",
   "source": "print(\"Hello World\")",
   "id": "initial_id",
   "outputs": [
    {
     "name": "stdout",
     "output_type": "stream",
     "text": [
      "Hello World\n"
     ]
    }
   ],
   "execution_count": 1
  },
  {
   "metadata": {},
   "cell_type": "markdown",
   "source": "There is no differenc for single or double quotes you can use both",
   "id": "105320cb6501cc07"
  },
  {
   "metadata": {},
   "cell_type": "code",
   "outputs": [
    {
     "name": "stdout",
     "output_type": "stream",
     "text": [
      "Hello Again\n"
     ]
    }
   ],
   "execution_count": 2,
   "source": "print('Hello Again')",
   "id": "8ccce227e1e3f022"
  },
  {
   "metadata": {
    "ExecuteTime": {
     "end_time": "2025-08-21T09:24:39.535536Z",
     "start_time": "2025-08-21T09:24:39.528636Z"
    }
   },
   "cell_type": "code",
   "source": [
    "#single line comments\n",
    "\"\"\"\n",
    "    Multi\n",
    "    Line\n",
    "    Comments\n",
    "\"\"\"\n",
    "print('the commented section is not printed')"
   ],
   "id": "33de28de7753b122",
   "outputs": [
    {
     "name": "stdout",
     "output_type": "stream",
     "text": [
      "the commented section is not printed\n"
     ]
    }
   ],
   "execution_count": 3
  },
  {
   "metadata": {},
   "cell_type": "markdown",
   "source": "printing in one line",
   "id": "ffce9052192f4989"
  },
  {
   "metadata": {
    "ExecuteTime": {
     "end_time": "2025-08-21T09:30:14.362677Z",
     "start_time": "2025-08-21T09:30:14.353633Z"
    }
   },
   "cell_type": "code",
   "source": [
    "print('0123',end=' ')\n",
    "print('456',end=',')\n",
    "print('789',end=':')"
   ],
   "id": "a3591fbe83748304",
   "outputs": [
    {
     "name": "stdout",
     "output_type": "stream",
     "text": [
      "0123 456,789:"
     ]
    }
   ],
   "execution_count": 8
  },
  {
   "metadata": {},
   "cell_type": "markdown",
   "source": "Formated String",
   "id": "ef1a354734250a4d"
  },
  {
   "metadata": {
    "ExecuteTime": {
     "end_time": "2025-08-22T09:30:36.722795Z",
     "start_time": "2025-08-22T09:30:36.712560Z"
    }
   },
   "cell_type": "code",
   "source": [
    "name ='Deepak'\n",
    "print(f'Hi my name is {name}')"
   ],
   "id": "494fe0e6e9b7df39",
   "outputs": [
    {
     "name": "stdout",
     "output_type": "stream",
     "text": [
      "Hi my name is Deepak\n"
     ]
    }
   ],
   "execution_count": 16
  },
  {
   "metadata": {
    "ExecuteTime": {
     "end_time": "2025-08-22T09:33:05.320218Z",
     "start_time": "2025-08-22T09:33:05.314993Z"
    }
   },
   "cell_type": "code",
   "source": [
    "age ='30'\n",
    "print('hi my name is %s i am %s years old'% (name,age))"
   ],
   "id": "aabc16f98fe0cc29",
   "outputs": [
    {
     "name": "stdout",
     "output_type": "stream",
     "text": [
      "hi my name is Deepak i am 30 years old\n"
     ]
    }
   ],
   "execution_count": 26
  },
  {
   "metadata": {
    "ExecuteTime": {
     "end_time": "2025-08-22T09:35:02.544263Z",
     "start_time": "2025-08-22T09:35:02.534599Z"
    }
   },
   "cell_type": "code",
   "source": [
    "my_list ='my name is {} i am {} years old'\n",
    "my_list.format(name,age)"
   ],
   "id": "f7f61af07f55edb4",
   "outputs": [
    {
     "data": {
      "text/plain": [
       "'my name is Deepak i am 30 years old'"
      ]
     },
     "execution_count": 28,
     "metadata": {},
     "output_type": "execute_result"
    }
   ],
   "execution_count": 28
  },
  {
   "metadata": {
    "ExecuteTime": {
     "end_time": "2025-08-21T09:32:38.079837Z",
     "start_time": "2025-08-21T09:32:10.827866Z"
    }
   },
   "cell_type": "code",
   "source": [
    "Name = str(input('Enter your name: '))\n",
    "Age = int(input('Enter your age: '))\n",
    "country = str(input('Enter your country: '))\n",
    "occupation = str(input('Enter your occupation: '))\n",
    "print(f'My Name is {Name}')\n",
    "print(f'My Age is {Age}')\n",
    "print(f'My Country is {country}')\n",
    "print(f'My Occupation is {occupation}')"
   ],
   "id": "19d1e9ad11365b87",
   "outputs": [
    {
     "name": "stdout",
     "output_type": "stream",
     "text": [
      "My Name is Deepak\n",
      "My Age is 30\n",
      "My Country is India\n",
      "My Occupation is Developer\n"
     ]
    }
   ],
   "execution_count": 10
  },
  {
   "metadata": {},
   "cell_type": "markdown",
   "source": "Back slash used for quote inside a quote",
   "id": "416dd2537a8eb41c"
  },
  {
   "metadata": {
    "ExecuteTime": {
     "end_time": "2025-08-21T09:35:27.058519Z",
     "start_time": "2025-08-21T09:35:27.050716Z"
    }
   },
   "cell_type": "code",
   "source": [
    "print(\"I Don't\")\n",
    "print('I Don\\'t')\n",
    "print('I Am From \"Hyderabad\"')\n",
    "print(\"I Am From \\\"Hyderabad\\\"\")"
   ],
   "id": "e79675aeecbf956a",
   "outputs": [
    {
     "name": "stdout",
     "output_type": "stream",
     "text": [
      "I Don't\n",
      "I Don't\n",
      "I Am From \"Hyderabad\"\n",
      "I Am From \"Hyderabad\"\n"
     ]
    }
   ],
   "execution_count": 11
  },
  {
   "metadata": {},
   "cell_type": "markdown",
   "source": "Slicing of String",
   "id": "72c0694b890698ad"
  },
  {
   "metadata": {
    "ExecuteTime": {
     "end_time": "2025-08-22T09:27:33.272123Z",
     "start_time": "2025-08-22T09:27:33.264179Z"
    }
   },
   "cell_type": "code",
   "source": [
    "name = 'Hello Python'\n",
    "print(len(name))\n",
    "print(name[::-1])"
   ],
   "id": "73b2fcddd93debb7",
   "outputs": [
    {
     "name": "stdout",
     "output_type": "stream",
     "text": [
      "12\n",
      "nohtyP olleH\n"
     ]
    }
   ],
   "execution_count": 14
  }
 ],
 "metadata": {
  "kernelspec": {
   "display_name": "Python 3",
   "language": "python",
   "name": "python3"
  },
  "language_info": {
   "codemirror_mode": {
    "name": "ipython",
    "version": 2
   },
   "file_extension": ".py",
   "mimetype": "text/x-python",
   "name": "python",
   "nbconvert_exporter": "python",
   "pygments_lexer": "ipython2",
   "version": "2.7.6"
  }
 },
 "nbformat": 4,
 "nbformat_minor": 5
}
